{
 "cells": [
  {
   "cell_type": "code",
   "execution_count": 1,
   "id": "f9c2a70b",
   "metadata": {},
   "outputs": [],
   "source": [
    "from pyspark.sql import SparkSession \n",
    "spark = SparkSession. \\\n",
    "    builder. \\\n",
    "    config('spark.shuffle.useOldFetchProtocol', 'true'). \\\n",
    "    config(\"spark.sql.warehouse.dir\",f\"/user/itv012256/warehouse\"). \\\n",
    "    enableHiveSupport(). \\\n",
    "    master('yarn'). \\\n",
    "    getOrCreate()\n"
   ]
  },
  {
   "cell_type": "code",
   "execution_count": 2,
   "id": "ec685699",
   "metadata": {},
   "outputs": [
    {
     "data": {
      "text/html": [
       "\n",
       "            <div>\n",
       "                <p><b>SparkSession - hive</b></p>\n",
       "                \n",
       "        <div>\n",
       "            <p><b>SparkContext</b></p>\n",
       "\n",
       "            <p><a href=\"http://g02.itversity.com:4040\">Spark UI</a></p>\n",
       "\n",
       "            <dl>\n",
       "              <dt>Version</dt>\n",
       "                <dd><code>v3.1.2</code></dd>\n",
       "              <dt>Master</dt>\n",
       "                <dd><code>yarn</code></dd>\n",
       "              <dt>AppName</dt>\n",
       "                <dd><code>pyspark-shell</code></dd>\n",
       "            </dl>\n",
       "        </div>\n",
       "        \n",
       "            </div>\n",
       "        "
      ],
      "text/plain": [
       "<pyspark.sql.session.SparkSession at 0x7f6a887ff978>"
      ]
     },
     "execution_count": 2,
     "metadata": {},
     "output_type": "execute_result"
    }
   ],
   "source": [
    "spark"
   ]
  },
  {
   "cell_type": "code",
   "execution_count": 3,
   "id": "776298dd",
   "metadata": {},
   "outputs": [],
   "source": [
    "data = [\n",
    "    (1, \"John Doe\", \"2023-07-23\", 300.50, \"NY\", None, [\"shoes\", \"socks\"], \"123-456-7890\"),\n",
    "    (2, \"Jane Doe\", \"2023-07-22\", None, \"LA\", \"Returned\", [\"t-shirt\"], \"456-789-1234\"),\n",
    "    (3, \"Mike Ross\", \"2023-07-25\", 120.00, None, \"Completed\", None, \"789-123-4567\"),\n",
    "    (4, \"Rachel Zane\", \"2023-07-24\", 80.75, \"TX\", \"Completed\", [\"hat\"], \"321-654-0987\"),\n",
    "    (5, \"John Doe\", \"2023-07-23\", 300.50, \"NY\", None, [\"shoes\", \"socks\"], \"123-456-7890\")\n",
    "]"
   ]
  },
  {
   "cell_type": "code",
   "execution_count": 4,
   "id": "48ba267c",
   "metadata": {},
   "outputs": [],
   "source": [
    "columns = [\"order_id\", \"customer_name\", \"order_date\", \"amount\", \"state\", \"status\", \"items\", \"phone\"]\n"
   ]
  },
  {
   "cell_type": "code",
   "execution_count": 7,
   "id": "9b866d62",
   "metadata": {},
   "outputs": [],
   "source": [
    "df = spark.createDataFrame(data, columns)"
   ]
  },
  {
   "cell_type": "code",
   "execution_count": 8,
   "id": "96728103",
   "metadata": {},
   "outputs": [
    {
     "name": "stdout",
     "output_type": "stream",
     "text": [
      "+--------+-------------+----------+------+-----+---------+--------------+------------+\n",
      "|order_id|customer_name|order_date|amount|state|   status|         items|       phone|\n",
      "+--------+-------------+----------+------+-----+---------+--------------+------------+\n",
      "|       1|     John Doe|2023-07-23| 300.5|   NY|     null|[shoes, socks]|123-456-7890|\n",
      "|       2|     Jane Doe|2023-07-22|  null|   LA| Returned|     [t-shirt]|456-789-1234|\n",
      "|       3|    Mike Ross|2023-07-25| 120.0| null|Completed|          null|789-123-4567|\n",
      "|       4|  Rachel Zane|2023-07-24| 80.75|   TX|Completed|         [hat]|321-654-0987|\n",
      "|       5|     John Doe|2023-07-23| 300.5|   NY|     null|[shoes, socks]|123-456-7890|\n",
      "+--------+-------------+----------+------+-----+---------+--------------+------------+\n",
      "\n"
     ]
    }
   ],
   "source": [
    "df.show()"
   ]
  },
  {
   "cell_type": "code",
   "execution_count": 9,
   "id": "5d9d479c",
   "metadata": {},
   "outputs": [],
   "source": [
    "#Remove duplicate rows.\n",
    "\n",
    "df_no_duplicates = df.dropDuplicates()"
   ]
  },
  {
   "cell_type": "code",
   "execution_count": 10,
   "id": "b7667ece",
   "metadata": {},
   "outputs": [
    {
     "name": "stdout",
     "output_type": "stream",
     "text": [
      "+--------+-------------+----------+------+-----+---------+--------------+------------+\n",
      "|order_id|customer_name|order_date|amount|state|status   |items         |phone       |\n",
      "+--------+-------------+----------+------+-----+---------+--------------+------------+\n",
      "|1       |John Doe     |2023-07-23|300.5 |NY   |null     |[shoes, socks]|123-456-7890|\n",
      "|2       |Jane Doe     |2023-07-22|null  |LA   |Returned |[t-shirt]     |456-789-1234|\n",
      "|4       |Rachel Zane  |2023-07-24|80.75 |TX   |Completed|[hat]         |321-654-0987|\n",
      "|5       |John Doe     |2023-07-23|300.5 |NY   |null     |[shoes, socks]|123-456-7890|\n",
      "|3       |Mike Ross    |2023-07-25|120.0 |null |Completed|null          |789-123-4567|\n",
      "+--------+-------------+----------+------+-----+---------+--------------+------------+\n",
      "\n"
     ]
    }
   ],
   "source": [
    "df_no_duplicates.show(truncate= False)"
   ]
  },
  {
   "cell_type": "code",
   "execution_count": 11,
   "id": "cb9816cc",
   "metadata": {},
   "outputs": [],
   "source": [
    "# Remove rows with null values.\n",
    "\n",
    "df_clean = df.dropna()"
   ]
  },
  {
   "cell_type": "code",
   "execution_count": 12,
   "id": "3cb563ce",
   "metadata": {},
   "outputs": [
    {
     "name": "stdout",
     "output_type": "stream",
     "text": [
      "+--------+-------------+----------+------+-----+---------+-----+------------+\n",
      "|order_id|customer_name|order_date|amount|state|   status|items|       phone|\n",
      "+--------+-------------+----------+------+-----+---------+-----+------------+\n",
      "|       4|  Rachel Zane|2023-07-24| 80.75|   TX|Completed|[hat]|321-654-0987|\n",
      "+--------+-------------+----------+------+-----+---------+-----+------------+\n",
      "\n"
     ]
    }
   ],
   "source": [
    "df_clean.show()"
   ]
  },
  {
   "cell_type": "code",
   "execution_count": 13,
   "id": "79a2207d",
   "metadata": {},
   "outputs": [],
   "source": [
    "# Fill missing values with default values.\n",
    "\n",
    "df_filled = df.fillna({\"status\":\"Pending\" , \"amount\" : 1.1, \"state\" : \"Unknow\"})"
   ]
  },
  {
   "cell_type": "code",
   "execution_count": 14,
   "id": "b79f02fb",
   "metadata": {},
   "outputs": [
    {
     "name": "stdout",
     "output_type": "stream",
     "text": [
      "+--------+-------------+----------+------+------+---------+--------------+------------+\n",
      "|order_id|customer_name|order_date|amount| state|   status|         items|       phone|\n",
      "+--------+-------------+----------+------+------+---------+--------------+------------+\n",
      "|       1|     John Doe|2023-07-23| 300.5|    NY|  Pending|[shoes, socks]|123-456-7890|\n",
      "|       2|     Jane Doe|2023-07-22|   1.1|    LA| Returned|     [t-shirt]|456-789-1234|\n",
      "|       3|    Mike Ross|2023-07-25| 120.0|Unknow|Completed|          null|789-123-4567|\n",
      "|       4|  Rachel Zane|2023-07-24| 80.75|    TX|Completed|         [hat]|321-654-0987|\n",
      "|       5|     John Doe|2023-07-23| 300.5|    NY|  Pending|[shoes, socks]|123-456-7890|\n",
      "+--------+-------------+----------+------+------+---------+--------------+------------+\n",
      "\n"
     ]
    }
   ],
   "source": [
    "df_filled.show()"
   ]
  },
  {
   "cell_type": "code",
   "execution_count": 15,
   "id": "7b6f43ee",
   "metadata": {},
   "outputs": [],
   "source": [
    "df_replace =df_filled.replace(\"Pending\", \"InProgress\" , subset = [\"status\"])"
   ]
  },
  {
   "cell_type": "code",
   "execution_count": 16,
   "id": "7a103750",
   "metadata": {},
   "outputs": [
    {
     "name": "stdout",
     "output_type": "stream",
     "text": [
      "+--------+-------------+----------+------+------+----------+--------------+------------+\n",
      "|order_id|customer_name|order_date|amount| state|    status|         items|       phone|\n",
      "+--------+-------------+----------+------+------+----------+--------------+------------+\n",
      "|       1|     John Doe|2023-07-23| 300.5|    NY|InProgress|[shoes, socks]|123-456-7890|\n",
      "|       2|     Jane Doe|2023-07-22|   1.1|    LA|  Returned|     [t-shirt]|456-789-1234|\n",
      "|       3|    Mike Ross|2023-07-25| 120.0|Unknow| Completed|          null|789-123-4567|\n",
      "|       4|  Rachel Zane|2023-07-24| 80.75|    TX| Completed|         [hat]|321-654-0987|\n",
      "|       5|     John Doe|2023-07-23| 300.5|    NY|InProgress|[shoes, socks]|123-456-7890|\n",
      "+--------+-------------+----------+------+------+----------+--------------+------------+\n",
      "\n"
     ]
    }
   ],
   "source": [
    "df_replace.show()"
   ]
  },
  {
   "cell_type": "code",
   "execution_count": 17,
   "id": "bc524a63",
   "metadata": {},
   "outputs": [
    {
     "name": "stdout",
     "output_type": "stream",
     "text": [
      "root\n",
      " |-- order_id: long (nullable = true)\n",
      " |-- customer_name: string (nullable = true)\n",
      " |-- order_date: string (nullable = true)\n",
      " |-- amount: double (nullable = true)\n",
      " |-- state: string (nullable = true)\n",
      " |-- status: string (nullable = true)\n",
      " |-- items: array (nullable = true)\n",
      " |    |-- element: string (containsNull = true)\n",
      " |-- phone: string (nullable = true)\n",
      "\n",
      "root\n",
      " |-- order_id: long (nullable = true)\n",
      " |-- customer_name: string (nullable = true)\n",
      " |-- order_date: string (nullable = true)\n",
      " |-- amount: integer (nullable = true)\n",
      " |-- state: string (nullable = true)\n",
      " |-- status: string (nullable = true)\n",
      " |-- items: array (nullable = true)\n",
      " |    |-- element: string (containsNull = true)\n",
      " |-- phone: string (nullable = true)\n",
      "\n"
     ]
    }
   ],
   "source": [
    "# Change the data type of a column.\n",
    "\n",
    "df.printSchema()\n",
    "\n",
    "df_datatype = df.withColumn(\"amount\" , df[\"amount\"].cast(\"integer\"))\n",
    "#df_trimed = df.withColumn(\"customer_name\", trim(df[\"customer_name\"]))\n",
    "#df_regexp = df.withColumn(\"phone\", regexp_replace(\"phone\",  \"-\",   \" \"))\n",
    "\n",
    "df_datatype.printSchema()"
   ]
  },
  {
   "cell_type": "code",
   "execution_count": 18,
   "id": "f3de4e57",
   "metadata": {},
   "outputs": [],
   "source": [
    "# Create a new column or update an existing column.\n",
    "from pyspark.sql.functions import lit"
   ]
  },
  {
   "cell_type": "code",
   "execution_count": 19,
   "id": "68af42c3",
   "metadata": {},
   "outputs": [],
   "source": [
    "df_new_column = df.withColumn(\"discount\", lit(10))"
   ]
  },
  {
   "cell_type": "code",
   "execution_count": 20,
   "id": "7daf3758",
   "metadata": {},
   "outputs": [
    {
     "name": "stdout",
     "output_type": "stream",
     "text": [
      "+--------+-------------+----------+------+-----+---------+--------------+------------+--------+\n",
      "|order_id|customer_name|order_date|amount|state|   status|         items|       phone|discount|\n",
      "+--------+-------------+----------+------+-----+---------+--------------+------------+--------+\n",
      "|       1|     John Doe|2023-07-23| 300.5|   NY|     null|[shoes, socks]|123-456-7890|      10|\n",
      "|       2|     Jane Doe|2023-07-22|  null|   LA| Returned|     [t-shirt]|456-789-1234|      10|\n",
      "|       3|    Mike Ross|2023-07-25| 120.0| null|Completed|          null|789-123-4567|      10|\n",
      "|       4|  Rachel Zane|2023-07-24| 80.75|   TX|Completed|         [hat]|321-654-0987|      10|\n",
      "|       5|     John Doe|2023-07-23| 300.5|   NY|     null|[shoes, socks]|123-456-7890|      10|\n",
      "+--------+-------------+----------+------+-----+---------+--------------+------------+--------+\n",
      "\n"
     ]
    }
   ],
   "source": [
    "df_new_column.show()"
   ]
  },
  {
   "cell_type": "code",
   "execution_count": 21,
   "id": "d30b2afb",
   "metadata": {},
   "outputs": [],
   "source": [
    "# Remove a column \n",
    "\n",
    "df_dropped_column = df_new_column.drop(\"discount\")"
   ]
  },
  {
   "cell_type": "code",
   "execution_count": 22,
   "id": "49e668f6",
   "metadata": {},
   "outputs": [
    {
     "name": "stdout",
     "output_type": "stream",
     "text": [
      "+--------+-------------+----------+------+-----+---------+--------------+------------+\n",
      "|order_id|customer_name|order_date|amount|state|   status|         items|       phone|\n",
      "+--------+-------------+----------+------+-----+---------+--------------+------------+\n",
      "|       1|     John Doe|2023-07-23| 300.5|   NY|     null|[shoes, socks]|123-456-7890|\n",
      "|       2|     Jane Doe|2023-07-22|  null|   LA| Returned|     [t-shirt]|456-789-1234|\n",
      "|       3|    Mike Ross|2023-07-25| 120.0| null|Completed|          null|789-123-4567|\n",
      "|       4|  Rachel Zane|2023-07-24| 80.75|   TX|Completed|         [hat]|321-654-0987|\n",
      "|       5|     John Doe|2023-07-23| 300.5|   NY|     null|[shoes, socks]|123-456-7890|\n",
      "+--------+-------------+----------+------+-----+---------+--------------+------------+\n",
      "\n"
     ]
    }
   ],
   "source": [
    "df_dropped_column.show()"
   ]
  },
  {
   "cell_type": "code",
   "execution_count": 23,
   "id": "daddfc19",
   "metadata": {},
   "outputs": [],
   "source": [
    "# Rename a cloumn name \n",
    "\n",
    "df_renamed_column = df.withColumnRenamed(\"phone\", \"Contact_no\")"
   ]
  },
  {
   "cell_type": "code",
   "execution_count": 24,
   "id": "668e8b7f",
   "metadata": {},
   "outputs": [
    {
     "name": "stdout",
     "output_type": "stream",
     "text": [
      "+--------+-------------+----------+------+-----+---------+--------------+------------+\n",
      "|order_id|customer_name|order_date|amount|state|   status|         items|  Contact_no|\n",
      "+--------+-------------+----------+------+-----+---------+--------------+------------+\n",
      "|       1|     John Doe|2023-07-23| 300.5|   NY|     null|[shoes, socks]|123-456-7890|\n",
      "|       2|     Jane Doe|2023-07-22|  null|   LA| Returned|     [t-shirt]|456-789-1234|\n",
      "|       3|    Mike Ross|2023-07-25| 120.0| null|Completed|          null|789-123-4567|\n",
      "|       4|  Rachel Zane|2023-07-24| 80.75|   TX|Completed|         [hat]|321-654-0987|\n",
      "|       5|     John Doe|2023-07-23| 300.5|   NY|     null|[shoes, socks]|123-456-7890|\n",
      "+--------+-------------+----------+------+-----+---------+--------------+------------+\n",
      "\n"
     ]
    }
   ],
   "source": [
    "df_renamed_column.show()"
   ]
  },
  {
   "cell_type": "code",
   "execution_count": 25,
   "id": "aa7fe71a",
   "metadata": {},
   "outputs": [],
   "source": [
    " # Trim white spaces from string columns.\n",
    "    \n",
    "from pyspark.sql.functions import trim\n"
   ]
  },
  {
   "cell_type": "code",
   "execution_count": 26,
   "id": "75d92c3c",
   "metadata": {},
   "outputs": [],
   "source": [
    "df_trimed = df.withColumn(\"customer_name\", trim(df[\"customer_name\"]))\n",
    "#df_regexp = df.withColumn(\"phone\", regexp_replace(\"phone\",  \"-\",   \" \"))"
   ]
  },
  {
   "cell_type": "code",
   "execution_count": 27,
   "id": "7815a87e",
   "metadata": {},
   "outputs": [
    {
     "name": "stdout",
     "output_type": "stream",
     "text": [
      "+--------+-------------+----------+------+-----+---------+--------------+------------+\n",
      "|order_id|customer_name|order_date|amount|state|   status|         items|       phone|\n",
      "+--------+-------------+----------+------+-----+---------+--------------+------------+\n",
      "|       1|     John Doe|2023-07-23| 300.5|   NY|     null|[shoes, socks]|123-456-7890|\n",
      "|       2|     Jane Doe|2023-07-22|  null|   LA| Returned|     [t-shirt]|456-789-1234|\n",
      "|       3|    Mike Ross|2023-07-25| 120.0| null|Completed|          null|789-123-4567|\n",
      "|       4|  Rachel Zane|2023-07-24| 80.75|   TX|Completed|         [hat]|321-654-0987|\n",
      "|       5|     John Doe|2023-07-23| 300.5|   NY|     null|[shoes, socks]|123-456-7890|\n",
      "+--------+-------------+----------+------+-----+---------+--------------+------------+\n",
      "\n",
      "+--------+-------------+----------+------+-----+---------+--------------+------------+\n",
      "|order_id|customer_name|order_date|amount|state|   status|         items|       phone|\n",
      "+--------+-------------+----------+------+-----+---------+--------------+------------+\n",
      "|       1|     John Doe|2023-07-23| 300.5|   NY|     null|[shoes, socks]|123-456-7890|\n",
      "|       2|     Jane Doe|2023-07-22|  null|   LA| Returned|     [t-shirt]|456-789-1234|\n",
      "|       3|    Mike Ross|2023-07-25| 120.0| null|Completed|          null|789-123-4567|\n",
      "|       4|  Rachel Zane|2023-07-24| 80.75|   TX|Completed|         [hat]|321-654-0987|\n",
      "|       5|     John Doe|2023-07-23| 300.5|   NY|     null|[shoes, socks]|123-456-7890|\n",
      "+--------+-------------+----------+------+-----+---------+--------------+------------+\n",
      "\n"
     ]
    }
   ],
   "source": [
    "df.show()\n",
    "df_trimed.show()"
   ]
  },
  {
   "cell_type": "code",
   "execution_count": 28,
   "id": "36d4d0b0",
   "metadata": {},
   "outputs": [],
   "source": [
    "from pyspark.sql.functions import regexp_replace"
   ]
  },
  {
   "cell_type": "code",
   "execution_count": 29,
   "id": "c36a1520",
   "metadata": {},
   "outputs": [],
   "source": [
    "df_regexp = df.withColumn(\"phone\", regexp_replace(\"phone\",  \"-\",   \" \"))"
   ]
  },
  {
   "cell_type": "code",
   "execution_count": 30,
   "id": "f802fbc4",
   "metadata": {},
   "outputs": [
    {
     "name": "stdout",
     "output_type": "stream",
     "text": [
      "+--------+-------------+----------+------+-----+---------+--------------+------------+\n",
      "|order_id|customer_name|order_date|amount|state|   status|         items|       phone|\n",
      "+--------+-------------+----------+------+-----+---------+--------------+------------+\n",
      "|       1|     John Doe|2023-07-23| 300.5|   NY|     null|[shoes, socks]|123 456 7890|\n",
      "|       2|     Jane Doe|2023-07-22|  null|   LA| Returned|     [t-shirt]|456 789 1234|\n",
      "|       3|    Mike Ross|2023-07-25| 120.0| null|Completed|          null|789 123 4567|\n",
      "|       4|  Rachel Zane|2023-07-24| 80.75|   TX|Completed|         [hat]|321 654 0987|\n",
      "|       5|     John Doe|2023-07-23| 300.5|   NY|     null|[shoes, socks]|123 456 7890|\n",
      "+--------+-------------+----------+------+-----+---------+--------------+------------+\n",
      "\n"
     ]
    }
   ],
   "source": [
    "df_regexp.show()"
   ]
  },
  {
   "cell_type": "code",
   "execution_count": 31,
   "id": "bd22f80f",
   "metadata": {},
   "outputs": [],
   "source": [
    "# Filter rows based on a condition.\n",
    "\n",
    "df_filtered = df.filter(df[\"amount\"] > 100)"
   ]
  },
  {
   "cell_type": "code",
   "execution_count": 32,
   "id": "129f2c7c",
   "metadata": {},
   "outputs": [
    {
     "name": "stdout",
     "output_type": "stream",
     "text": [
      "+--------+-------------+----------+------+-----+---------+--------------+------------+\n",
      "|order_id|customer_name|order_date|amount|state|   status|         items|       phone|\n",
      "+--------+-------------+----------+------+-----+---------+--------------+------------+\n",
      "|       1|     John Doe|2023-07-23| 300.5|   NY|     null|[shoes, socks]|123-456-7890|\n",
      "|       3|    Mike Ross|2023-07-25| 120.0| null|Completed|          null|789-123-4567|\n",
      "|       5|     John Doe|2023-07-23| 300.5|   NY|     null|[shoes, socks]|123-456-7890|\n",
      "+--------+-------------+----------+------+-----+---------+--------------+------------+\n",
      "\n"
     ]
    }
   ],
   "source": [
    "df_filtered.show()"
   ]
  },
  {
   "cell_type": "code",
   "execution_count": 33,
   "id": "cd80bc6b",
   "metadata": {},
   "outputs": [],
   "source": [
    "df_filtered_where = df.where(df[\"amount\"] < 150)"
   ]
  },
  {
   "cell_type": "code",
   "execution_count": 34,
   "id": "f2b08cbe",
   "metadata": {},
   "outputs": [
    {
     "name": "stdout",
     "output_type": "stream",
     "text": [
      "+--------+-------------+----------+------+-----+---------+-----+------------+\n",
      "|order_id|customer_name|order_date|amount|state|   status|items|       phone|\n",
      "+--------+-------------+----------+------+-----+---------+-----+------------+\n",
      "|       3|    Mike Ross|2023-07-25| 120.0| null|Completed| null|789-123-4567|\n",
      "|       4|  Rachel Zane|2023-07-24| 80.75|   TX|Completed|[hat]|321-654-0987|\n",
      "+--------+-------------+----------+------+-----+---------+-----+------------+\n",
      "\n"
     ]
    }
   ],
   "source": [
    "df_filtered_where.show()"
   ]
  },
  {
   "cell_type": "code",
   "execution_count": 35,
   "id": "3ff8d585",
   "metadata": {},
   "outputs": [],
   "source": [
    "df_distinct =df.distinct()"
   ]
  },
  {
   "cell_type": "code",
   "execution_count": 36,
   "id": "b20186d9",
   "metadata": {},
   "outputs": [
    {
     "name": "stdout",
     "output_type": "stream",
     "text": [
      "+--------+-------------+----------+------+-----+---------+--------------+------------+\n",
      "|order_id|customer_name|order_date|amount|state|   status|         items|       phone|\n",
      "+--------+-------------+----------+------+-----+---------+--------------+------------+\n",
      "|       1|     John Doe|2023-07-23| 300.5|   NY|     null|[shoes, socks]|123-456-7890|\n",
      "|       2|     Jane Doe|2023-07-22|  null|   LA| Returned|     [t-shirt]|456-789-1234|\n",
      "|       4|  Rachel Zane|2023-07-24| 80.75|   TX|Completed|         [hat]|321-654-0987|\n",
      "|       5|     John Doe|2023-07-23| 300.5|   NY|     null|[shoes, socks]|123-456-7890|\n",
      "|       3|    Mike Ross|2023-07-25| 120.0| null|Completed|          null|789-123-4567|\n",
      "+--------+-------------+----------+------+-----+---------+--------------+------------+\n",
      "\n"
     ]
    }
   ],
   "source": [
    "df_distinct.show()"
   ]
  },
  {
   "cell_type": "code",
   "execution_count": 37,
   "id": "a71e560e",
   "metadata": {},
   "outputs": [],
   "source": [
    "# Combine two DataFrames with matching column names.\n",
    "#df.column or column\n",
    "\n",
    "df_extra = spark.createDataFrame([(6, \"Harvey Specter\", \"2023-07-26\", 500.00, \"NY\", \"InProgress\", [\"jacket\"], \"567-890-1234\"), (6, \"Harvey Specter\", \"2023-07-26\", 500.00, \"NY\", \"InProgress\", [\"jacket\"], \"567-890-1234\") ], columns)\n"
   ]
  },
  {
   "cell_type": "code",
   "execution_count": 38,
   "id": "5f993ef8",
   "metadata": {},
   "outputs": [
    {
     "data": {
      "text/plain": [
       "['order_id',\n",
       " 'customer_name',\n",
       " 'order_date',\n",
       " 'amount',\n",
       " 'state',\n",
       " 'status',\n",
       " 'items',\n",
       " 'phone']"
      ]
     },
     "execution_count": 38,
     "metadata": {},
     "output_type": "execute_result"
    }
   ],
   "source": [
    "columns"
   ]
  },
  {
   "cell_type": "code",
   "execution_count": 39,
   "id": "14c1e3d8",
   "metadata": {},
   "outputs": [],
   "source": [
    "df_union = df.unionByName(df_extra)"
   ]
  },
  {
   "cell_type": "code",
   "execution_count": 40,
   "id": "3b1b82ca",
   "metadata": {},
   "outputs": [
    {
     "name": "stdout",
     "output_type": "stream",
     "text": [
      "+--------+--------------+----------+------+-----+----------+--------------+------------+\n",
      "|order_id| customer_name|order_date|amount|state|    status|         items|       phone|\n",
      "+--------+--------------+----------+------+-----+----------+--------------+------------+\n",
      "|       1|      John Doe|2023-07-23| 300.5|   NY|      null|[shoes, socks]|123-456-7890|\n",
      "|       2|      Jane Doe|2023-07-22|  null|   LA|  Returned|     [t-shirt]|456-789-1234|\n",
      "|       3|     Mike Ross|2023-07-25| 120.0| null| Completed|          null|789-123-4567|\n",
      "|       4|   Rachel Zane|2023-07-24| 80.75|   TX| Completed|         [hat]|321-654-0987|\n",
      "|       5|      John Doe|2023-07-23| 300.5|   NY|      null|[shoes, socks]|123-456-7890|\n",
      "|       6|Harvey Specter|2023-07-26| 500.0|   NY|InProgress|      [jacket]|567-890-1234|\n",
      "|       6|Harvey Specter|2023-07-26| 500.0|   NY|InProgress|      [jacket]|567-890-1234|\n",
      "+--------+--------------+----------+------+-----+----------+--------------+------------+\n",
      "\n"
     ]
    }
   ],
   "source": [
    "df_union.show()"
   ]
  },
  {
   "cell_type": "code",
   "execution_count": 41,
   "id": "beb7ec31",
   "metadata": {},
   "outputs": [],
   "source": [
    "df_union_duplicats = df_union.dropDuplicates()"
   ]
  },
  {
   "cell_type": "code",
   "execution_count": 42,
   "id": "65a48da2",
   "metadata": {},
   "outputs": [
    {
     "name": "stdout",
     "output_type": "stream",
     "text": [
      "+--------+--------------+----------+------+-----+----------+--------------+------------+\n",
      "|order_id| customer_name|order_date|amount|state|    status|         items|       phone|\n",
      "+--------+--------------+----------+------+-----+----------+--------------+------------+\n",
      "|       1|      John Doe|2023-07-23| 300.5|   NY|      null|[shoes, socks]|123-456-7890|\n",
      "|       6|Harvey Specter|2023-07-26| 500.0|   NY|InProgress|      [jacket]|567-890-1234|\n",
      "|       2|      Jane Doe|2023-07-22|  null|   LA|  Returned|     [t-shirt]|456-789-1234|\n",
      "|       4|   Rachel Zane|2023-07-24| 80.75|   TX| Completed|         [hat]|321-654-0987|\n",
      "|       5|      John Doe|2023-07-23| 300.5|   NY|      null|[shoes, socks]|123-456-7890|\n",
      "|       3|     Mike Ross|2023-07-25| 120.0| null| Completed|          null|789-123-4567|\n",
      "+--------+--------------+----------+------+-----+----------+--------------+------------+\n",
      "\n"
     ]
    }
   ],
   "source": [
    "df_union_duplicats.show()"
   ]
  },
  {
   "cell_type": "code",
   "execution_count": 43,
   "id": "84f0b738",
   "metadata": {},
   "outputs": [],
   "source": [
    "customer_df = spark.createDataFrame([(1, \"John Doe\", 30), (2, \"Jane Doe\", 28)], [\"id\", \"name\", \"age\"])\n"
   ]
  },
  {
   "cell_type": "code",
   "execution_count": 44,
   "id": "981c6673",
   "metadata": {},
   "outputs": [],
   "source": [
    "df_joined = df.join(customer_df, df.customer_name == customer_df.name, \"left\").write.format(\"noop\").mode(\"overwrite\").save()"
   ]
  },
  {
   "cell_type": "code",
   "execution_count": 45,
   "id": "ea19bf43",
   "metadata": {},
   "outputs": [
    {
     "ename": "AttributeError",
     "evalue": "'NoneType' object has no attribute 'show'",
     "output_type": "error",
     "traceback": [
      "\u001b[0;31m---------------------------------------------------------------------------\u001b[0m",
      "\u001b[0;31mAttributeError\u001b[0m                            Traceback (most recent call last)",
      "\u001b[0;32m<ipython-input-45-93d3c6e6e326>\u001b[0m in \u001b[0;36m<module>\u001b[0;34m\u001b[0m\n\u001b[0;32m----> 1\u001b[0;31m \u001b[0mdf_joined\u001b[0m\u001b[0;34m.\u001b[0m\u001b[0mshow\u001b[0m\u001b[0;34m(\u001b[0m\u001b[0;34m)\u001b[0m\u001b[0;34m\u001b[0m\u001b[0;34m\u001b[0m\u001b[0m\n\u001b[0m",
      "\u001b[0;31mAttributeError\u001b[0m: 'NoneType' object has no attribute 'show'"
     ]
    }
   ],
   "source": [
    "df_joined.show()"
   ]
  },
  {
   "cell_type": "code",
   "execution_count": 51,
   "id": "7e136911",
   "metadata": {},
   "outputs": [],
   "source": [
    "df_joined_left = df.join(customer_df, df.customer_name == customer_df.name, \"left\")"
   ]
  },
  {
   "cell_type": "code",
   "execution_count": 52,
   "id": "5b58b4a9",
   "metadata": {},
   "outputs": [
    {
     "name": "stdout",
     "output_type": "stream",
     "text": [
      "+--------+-------------+----------+------+-----+---------+--------------+------------+----+--------+----+\n",
      "|order_id|customer_name|order_date|amount|state|   status|         items|       phone|  id|    name| age|\n",
      "+--------+-------------+----------+------+-----+---------+--------------+------------+----+--------+----+\n",
      "|       2|     Jane Doe|2023-07-22|  null|   LA| Returned|     [t-shirt]|456-789-1234|   2|Jane Doe|  28|\n",
      "|       4|  Rachel Zane|2023-07-24| 80.75|   TX|Completed|         [hat]|321-654-0987|null|    null|null|\n",
      "|       1|     John Doe|2023-07-23| 300.5|   NY|     null|[shoes, socks]|123-456-7890|   1|John Doe|  30|\n",
      "|       5|     John Doe|2023-07-23| 300.5|   NY|     null|[shoes, socks]|123-456-7890|   1|John Doe|  30|\n",
      "|       3|    Mike Ross|2023-07-25| 120.0| null|Completed|          null|789-123-4567|null|    null|null|\n",
      "+--------+-------------+----------+------+-----+---------+--------------+------------+----+--------+----+\n",
      "\n"
     ]
    }
   ],
   "source": [
    "df_joined_left.show()"
   ]
  },
  {
   "cell_type": "code",
   "execution_count": 53,
   "id": "1543db38",
   "metadata": {},
   "outputs": [
    {
     "name": "stdout",
     "output_type": "stream",
     "text": [
      "+--------+-------------+----------+------+-----+---------+--------------+------------+\n",
      "|order_id|customer_name|order_date|amount|state|   status|         items|       phone|\n",
      "+--------+-------------+----------+------+-----+---------+--------------+------------+\n",
      "|       1|     John Doe|2023-07-23| 300.5|   NY|     null|[shoes, socks]|123-456-7890|\n",
      "|       2|     Jane Doe|2023-07-22|  null|   LA| Returned|     [t-shirt]|456-789-1234|\n",
      "|       3|    Mike Ross|2023-07-25| 120.0| null|Completed|          null|789-123-4567|\n",
      "|       4|  Rachel Zane|2023-07-24| 80.75|   TX|Completed|         [hat]|321-654-0987|\n",
      "|       5|     John Doe|2023-07-23| 300.5|   NY|     null|[shoes, socks]|123-456-7890|\n",
      "+--------+-------------+----------+------+-----+---------+--------------+------------+\n",
      "\n"
     ]
    }
   ],
   "source": [
    "df.show()"
   ]
  },
  {
   "cell_type": "code",
   "execution_count": 54,
   "id": "11bbcd1e",
   "metadata": {},
   "outputs": [],
   "source": [
    "from pyspark.sql.functions import sum\n"
   ]
  },
  {
   "cell_type": "code",
   "execution_count": 55,
   "id": "f528c17c",
   "metadata": {},
   "outputs": [],
   "source": [
    "df_grouped = df.groupBy(\"state\").agg(sum(\"amount\").alias(\"total_sales\"))\n"
   ]
  },
  {
   "cell_type": "code",
   "execution_count": 56,
   "id": "c68b4943",
   "metadata": {},
   "outputs": [
    {
     "name": "stdout",
     "output_type": "stream",
     "text": [
      "+-----+-----------+\n",
      "|state|total_sales|\n",
      "+-----+-----------+\n",
      "|   LA|       null|\n",
      "| null|      120.0|\n",
      "|   NY|      601.0|\n",
      "|   TX|      80.75|\n",
      "+-----+-----------+\n",
      "\n"
     ]
    }
   ],
   "source": [
    "df_grouped.show()"
   ]
  },
  {
   "cell_type": "code",
   "execution_count": 57,
   "id": "b5a741d3",
   "metadata": {},
   "outputs": [],
   "source": [
    "df_grouped_status = df_replace.groupBy(\"status\").agg(sum(\"amount\").alias(\"total_sales\"))\n"
   ]
  },
  {
   "cell_type": "code",
   "execution_count": 58,
   "id": "2c4bc092",
   "metadata": {},
   "outputs": [
    {
     "name": "stdout",
     "output_type": "stream",
     "text": [
      "+----------+-----------+\n",
      "|    status|total_sales|\n",
      "+----------+-----------+\n",
      "|  Returned|        1.1|\n",
      "| Completed|     200.75|\n",
      "|InProgress|      601.0|\n",
      "+----------+-----------+\n",
      "\n"
     ]
    }
   ],
   "source": [
    "df_grouped_status.show()"
   ]
  },
  {
   "cell_type": "code",
   "execution_count": 59,
   "id": "6daa1c9b",
   "metadata": {},
   "outputs": [],
   "source": [
    "df_pivot = df.groupBy(\"customer_name\").pivot(\"state\").sum(\"amount\")\n"
   ]
  },
  {
   "cell_type": "code",
   "execution_count": 60,
   "id": "52e2e1e8",
   "metadata": {},
   "outputs": [
    {
     "name": "stdout",
     "output_type": "stream",
     "text": [
      "+-------------+-----+----+-----+-----+\n",
      "|customer_name| null|  LA|   NY|   TX|\n",
      "+-------------+-----+----+-----+-----+\n",
      "|     Jane Doe| null|null| null| null|\n",
      "|  Rachel Zane| null|null| null|80.75|\n",
      "|     John Doe| null|null|601.0| null|\n",
      "|    Mike Ross|120.0|null| null| null|\n",
      "+-------------+-----+----+-----+-----+\n",
      "\n"
     ]
    }
   ],
   "source": [
    "df_pivot.show()"
   ]
  },
  {
   "cell_type": "code",
   "execution_count": 61,
   "id": "299379db",
   "metadata": {},
   "outputs": [],
   "source": [
    "# Explode array columns into individual rows.\n",
    "\n",
    "from pyspark.sql.functions import explode\n",
    "\n"
   ]
  },
  {
   "cell_type": "code",
   "execution_count": 62,
   "id": "bb2b164d",
   "metadata": {},
   "outputs": [],
   "source": [
    "df_exploded = df.withColumn(\"item\", explode(\"items\"))\n"
   ]
  },
  {
   "cell_type": "code",
   "execution_count": 63,
   "id": "f72aee9a",
   "metadata": {},
   "outputs": [
    {
     "name": "stdout",
     "output_type": "stream",
     "text": [
      "+--------+-------------+----------+------+-----+---------+--------------+------------+\n",
      "|order_id|customer_name|order_date|amount|state|   status|         items|       phone|\n",
      "+--------+-------------+----------+------+-----+---------+--------------+------------+\n",
      "|       1|     John Doe|2023-07-23| 300.5|   NY|     null|[shoes, socks]|123-456-7890|\n",
      "|       2|     Jane Doe|2023-07-22|  null|   LA| Returned|     [t-shirt]|456-789-1234|\n",
      "|       3|    Mike Ross|2023-07-25| 120.0| null|Completed|          null|789-123-4567|\n",
      "|       4|  Rachel Zane|2023-07-24| 80.75|   TX|Completed|         [hat]|321-654-0987|\n",
      "|       5|     John Doe|2023-07-23| 300.5|   NY|     null|[shoes, socks]|123-456-7890|\n",
      "+--------+-------------+----------+------+-----+---------+--------------+------------+\n",
      "\n",
      "+--------+-------------+----------+------+-----+---------+--------------+------------+-------+\n",
      "|order_id|customer_name|order_date|amount|state|   status|         items|       phone|   item|\n",
      "+--------+-------------+----------+------+-----+---------+--------------+------------+-------+\n",
      "|       1|     John Doe|2023-07-23| 300.5|   NY|     null|[shoes, socks]|123-456-7890|  shoes|\n",
      "|       1|     John Doe|2023-07-23| 300.5|   NY|     null|[shoes, socks]|123-456-7890|  socks|\n",
      "|       2|     Jane Doe|2023-07-22|  null|   LA| Returned|     [t-shirt]|456-789-1234|t-shirt|\n",
      "|       4|  Rachel Zane|2023-07-24| 80.75|   TX|Completed|         [hat]|321-654-0987|    hat|\n",
      "|       5|     John Doe|2023-07-23| 300.5|   NY|     null|[shoes, socks]|123-456-7890|  shoes|\n",
      "|       5|     John Doe|2023-07-23| 300.5|   NY|     null|[shoes, socks]|123-456-7890|  socks|\n",
      "+--------+-------------+----------+------+-----+---------+--------------+------------+-------+\n",
      "\n"
     ]
    }
   ],
   "source": [
    "df.show()\n",
    "df_exploded.show()"
   ]
  },
  {
   "cell_type": "code",
   "execution_count": 64,
   "id": "8ca3335e",
   "metadata": {},
   "outputs": [],
   "source": [
    "from pyspark.sql.functions import when\n",
    "from pyspark.sql.functions import split\n",
    "\n"
   ]
  },
  {
   "cell_type": "code",
   "execution_count": 78,
   "id": "b4837ac7",
   "metadata": {},
   "outputs": [],
   "source": [
    "#df_datatype = df.withColumn(\"amount\" , df[\"amount\"].cast(\"integer\"))\n",
    "#df_trimed = df.withColumn(\"customer_name\", trim(df[\"customer_name\"]))\n",
    "#df_regexp = df.withColumn(\"phone\", regexp_replace(\"phone\",  \"-\",   \" \"))\n",
    "#df_split = df.withColumn(\"first_name\", split(df[\"customer_name\"], \" \")[0])\n",
    "#df_substring = df.withColumn(\"area_code\", df[\"phone\"].substr(1, 3))\n",
    "#df_date = df.withColumn(\"order_date\", to_date(df[\"order_date\"], \"yyyy-MM-dd\"))\n",
    "\n",
    "\n",
    "\n",
    "\n",
    "df_condition = df.withColumn(\"high_value\", when(df[\"amount\"] > 200, \"Yes\").otherwise(\"No\"))\n",
    "\n"
   ]
  },
  {
   "cell_type": "code",
   "execution_count": 66,
   "id": "3b601452",
   "metadata": {},
   "outputs": [
    {
     "name": "stdout",
     "output_type": "stream",
     "text": [
      "+--------+-------------+----------+------+-----+---------+--------------+------------+----------+\n",
      "|order_id|customer_name|order_date|amount|state|   status|         items|       phone|high_value|\n",
      "+--------+-------------+----------+------+-----+---------+--------------+------------+----------+\n",
      "|       1|     John Doe|2023-07-23| 300.5|   NY|     null|[shoes, socks]|123-456-7890|       Yes|\n",
      "|       2|     Jane Doe|2023-07-22|  null|   LA| Returned|     [t-shirt]|456-789-1234|        No|\n",
      "|       3|    Mike Ross|2023-07-25| 120.0| null|Completed|          null|789-123-4567|        No|\n",
      "|       4|  Rachel Zane|2023-07-24| 80.75|   TX|Completed|         [hat]|321-654-0987|        No|\n",
      "|       5|     John Doe|2023-07-23| 300.5|   NY|     null|[shoes, socks]|123-456-7890|       Yes|\n",
      "+--------+-------------+----------+------+-----+---------+--------------+------------+----------+\n",
      "\n"
     ]
    }
   ],
   "source": [
    "df_condition.show()"
   ]
  },
  {
   "cell_type": "code",
   "execution_count": 67,
   "id": "dc2d23b5",
   "metadata": {},
   "outputs": [],
   "source": [
    "df_split = df.withColumn(\"first_name\", split(df[\"customer_name\"], \" \")[0])\n"
   ]
  },
  {
   "cell_type": "code",
   "execution_count": 68,
   "id": "59acbf15",
   "metadata": {},
   "outputs": [
    {
     "name": "stdout",
     "output_type": "stream",
     "text": [
      "+--------+-------------+----------+------+-----+---------+--------------+------------+----------+\n",
      "|order_id|customer_name|order_date|amount|state|   status|         items|       phone|first_name|\n",
      "+--------+-------------+----------+------+-----+---------+--------------+------------+----------+\n",
      "|       1|     John Doe|2023-07-23| 300.5|   NY|     null|[shoes, socks]|123-456-7890|      John|\n",
      "|       2|     Jane Doe|2023-07-22|  null|   LA| Returned|     [t-shirt]|456-789-1234|      Jane|\n",
      "|       3|    Mike Ross|2023-07-25| 120.0| null|Completed|          null|789-123-4567|      Mike|\n",
      "|       4|  Rachel Zane|2023-07-24| 80.75|   TX|Completed|         [hat]|321-654-0987|    Rachel|\n",
      "|       5|     John Doe|2023-07-23| 300.5|   NY|     null|[shoes, socks]|123-456-7890|      John|\n",
      "+--------+-------------+----------+------+-----+---------+--------------+------------+----------+\n",
      "\n"
     ]
    }
   ],
   "source": [
    "df_split.show()"
   ]
  },
  {
   "cell_type": "code",
   "execution_count": 73,
   "id": "3f46728f",
   "metadata": {},
   "outputs": [],
   "source": [
    "# Extract a substring from a string.\n",
    "\n",
    "df_substring = df.withColumn(\"area_code\", df[\"phone\"].substr(1, 3))\n"
   ]
  },
  {
   "cell_type": "code",
   "execution_count": 74,
   "id": "59e4a7e5",
   "metadata": {},
   "outputs": [
    {
     "name": "stdout",
     "output_type": "stream",
     "text": [
      "+--------+-------------+----------+------+-----+---------+--------------+------------+---------+\n",
      "|order_id|customer_name|order_date|amount|state|   status|         items|       phone|area_code|\n",
      "+--------+-------------+----------+------+-----+---------+--------------+------------+---------+\n",
      "|       1|     John Doe|2023-07-23| 300.5|   NY|     null|[shoes, socks]|123-456-7890|      123|\n",
      "|       2|     Jane Doe|2023-07-22|  null|   LA| Returned|     [t-shirt]|456-789-1234|      456|\n",
      "|       3|    Mike Ross|2023-07-25| 120.0| null|Completed|          null|789-123-4567|      789|\n",
      "|       4|  Rachel Zane|2023-07-24| 80.75|   TX|Completed|         [hat]|321-654-0987|      321|\n",
      "|       5|     John Doe|2023-07-23| 300.5|   NY|     null|[shoes, socks]|123-456-7890|      123|\n",
      "+--------+-------------+----------+------+-----+---------+--------------+------------+---------+\n",
      "\n"
     ]
    }
   ],
   "source": [
    "df_substring.show()"
   ]
  },
  {
   "cell_type": "code",
   "execution_count": 75,
   "id": "d02be244",
   "metadata": {},
   "outputs": [],
   "source": [
    "from pyspark.sql.functions import to_date\n"
   ]
  },
  {
   "cell_type": "code",
   "execution_count": 76,
   "id": "6aadf47d",
   "metadata": {},
   "outputs": [],
   "source": [
    "df_date = df.withColumn(\"order_date\", to_date(df[\"order_date\"], \"yyyy-MM-dd\"))\n"
   ]
  },
  {
   "cell_type": "code",
   "execution_count": 77,
   "id": "067868d7",
   "metadata": {},
   "outputs": [
    {
     "name": "stdout",
     "output_type": "stream",
     "text": [
      "+--------+-------------+----------+------+-----+---------+--------------+------------+\n",
      "|order_id|customer_name|order_date|amount|state|   status|         items|       phone|\n",
      "+--------+-------------+----------+------+-----+---------+--------------+------------+\n",
      "|       1|     John Doe|2023-07-23| 300.5|   NY|     null|[shoes, socks]|123-456-7890|\n",
      "|       2|     Jane Doe|2023-07-22|  null|   LA| Returned|     [t-shirt]|456-789-1234|\n",
      "|       3|    Mike Ross|2023-07-25| 120.0| null|Completed|          null|789-123-4567|\n",
      "|       4|  Rachel Zane|2023-07-24| 80.75|   TX|Completed|         [hat]|321-654-0987|\n",
      "|       5|     John Doe|2023-07-23| 300.5|   NY|     null|[shoes, socks]|123-456-7890|\n",
      "+--------+-------------+----------+------+-----+---------+--------------+------------+\n",
      "\n"
     ]
    }
   ],
   "source": [
    "df_date.show()"
   ]
  },
  {
   "cell_type": "code",
   "execution_count": 82,
   "id": "d3240755",
   "metadata": {},
   "outputs": [
    {
     "name": "stdout",
     "output_type": "stream",
     "text": [
      "+--------+-------------+----------+------+-----+---------+-----+------------+\n",
      "|order_id|customer_name|order_date|amount|state|status   |items|phone       |\n",
      "+--------+-------------+----------+------+-----+---------+-----+------------+\n",
      "|3       |Mike Ross    |2023-07-25|120.0 |null |Completed|null |789-123-4567|\n",
      "+--------+-------------+----------+------+-----+---------+-----+------------+\n",
      "\n",
      "+--------+-------------+----------+------+-----+---------+--------------+------------+\n",
      "|order_id|customer_name|order_date|amount|state|status   |items         |phone       |\n",
      "+--------+-------------+----------+------+-----+---------+--------------+------------+\n",
      "|1       |John Doe     |2023-07-23|300.5 |NY   |null     |[shoes, socks]|123-456-7890|\n",
      "|2       |Jane Doe     |2023-07-22|null  |LA   |Returned |[t-shirt]     |456-789-1234|\n",
      "|4       |Rachel Zane  |2023-07-24|80.75 |TX   |Completed|[hat]         |321-654-0987|\n",
      "|5       |John Doe     |2023-07-23|300.5 |NY   |null     |[shoes, socks]|123-456-7890|\n",
      "+--------+-------------+----------+------+-----+---------+--------------+------------+\n",
      "\n"
     ]
    }
   ],
   "source": [
    "df_null = df.filter(df[\"state\"].isNull())\n",
    "df_not_null = df.filter(df[\"state\"].isNotNull())\n",
    "df_null.show(truncate=False)\n",
    "df_not_null.show(truncate=False)"
   ]
  },
  {
   "cell_type": "code",
   "execution_count": 83,
   "id": "286f1199",
   "metadata": {},
   "outputs": [
    {
     "data": {
      "text/plain": [
       "<bound method DataFrame.show of +--------+-------------+----------+------+-----+---------+--------------+------------+\n",
       "|order_id|customer_name|order_date|amount|state|   status|         items|       phone|\n",
       "+--------+-------------+----------+------+-----+---------+--------------+------------+\n",
       "|       1|     John Doe|2023-07-23| 300.5|   NY|     null|[shoes, socks]|123-456-7890|\n",
       "|       2|     Jane Doe|2023-07-22|  null|   LA| Returned|     [t-shirt]|456-789-1234|\n",
       "|       4|  Rachel Zane|2023-07-24| 80.75|   TX|Completed|         [hat]|321-654-0987|\n",
       "|       5|     John Doe|2023-07-23| 300.5|   NY|     null|[shoes, socks]|123-456-7890|\n",
       "+--------+-------------+----------+------+-----+---------+--------------+------------+\n",
       ">"
      ]
     },
     "execution_count": 83,
     "metadata": {},
     "output_type": "execute_result"
    }
   ],
   "source": [
    "df_null = df.filter(df[\"state\"].isNull())\n",
    "df_not_null = df.filter(df[\"state\"].isNotNull())\n",
    "df_null.show \n",
    "df_not_null.show "
   ]
  },
  {
   "cell_type": "code",
   "execution_count": 84,
   "id": "d4a33e3d",
   "metadata": {},
   "outputs": [
    {
     "name": "stdout",
     "output_type": "stream",
     "text": [
      "+--------+-------------+----------+------+-----+--------+--------------+------------+\n",
      "|order_id|customer_name|order_date|amount|state|status  |items         |phone       |\n",
      "+--------+-------------+----------+------+-----+--------+--------------+------------+\n",
      "|1       |John Doe     |2023-07-23|300.5 |NY   |null    |[shoes, socks]|123-456-7890|\n",
      "|2       |Jane Doe     |2023-07-22|null  |LA   |Returned|[t-shirt]     |456-789-1234|\n",
      "|5       |John Doe     |2023-07-23|300.5 |NY   |null    |[shoes, socks]|123-456-7890|\n",
      "+--------+-------------+----------+------+-----+--------+--------------+------------+\n",
      "\n"
     ]
    }
   ],
   "source": [
    "df_isin = df.filter(df[\"state\"].isin(\"NY\", \"LA\"))\n",
    "df_isin.show(truncate=False)"
   ]
  },
  {
   "cell_type": "code",
   "execution_count": null,
   "id": "495dd15a",
   "metadata": {},
   "outputs": [],
   "source": []
  }
 ],
 "metadata": {
  "kernelspec": {
   "display_name": "Pyspark 3",
   "language": "python",
   "name": "pyspark3"
  },
  "language_info": {
   "codemirror_mode": {
    "name": "ipython",
    "version": 3
   },
   "file_extension": ".py",
   "mimetype": "text/x-python",
   "name": "python",
   "nbconvert_exporter": "python",
   "pygments_lexer": "ipython3",
   "version": "3.6.12"
  }
 },
 "nbformat": 4,
 "nbformat_minor": 5
}
